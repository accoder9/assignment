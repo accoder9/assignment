{
 "cells": [
  {
   "cell_type": "markdown",
   "id": "ff51d9ad-231d-45e5-a8fa-5d4a48f48f5c",
   "metadata": {},
   "source": [
    "Q1. Explain with an example each when to use a for loop and a while loop."
   ]
  },
  {
   "cell_type": "markdown",
   "id": "33ce4584-242a-49c7-b4b7-29901beb9032",
   "metadata": {},
   "source": [
    "for loop: Iterate a predefined number of times. This is also known as a definite iteration\n",
    "ex-\"for i in range(10):  # collection of numbers from 0 to 9\n",
    "    print(i)\" we used the range function to create a collection of numbers from 0 to 9. Later on, we used the print function to log out the value of our loop variable\n",
    "\n",
    "while loop: Keep on iterating until the condition is false. This is known as an indefinite iteration\n",
    "ex- "
   ]
  },
  {
   "cell_type": "markdown",
   "id": "f3846c00-5dbc-4f0b-8afc-703c472415b9",
   "metadata": {},
   "source": [
    "Q2. Write a python program to print the sum and product of the first 10 natural numbers using for\n",
    "and while loop."
   ]
  },
  {
   "cell_type": "code",
   "execution_count": 1,
   "id": "91ea8e4b-5922-43fa-9233-b8e3cd9cea4d",
   "metadata": {},
   "outputs": [
    {
     "name": "stdout",
     "output_type": "stream",
     "text": [
      "55 3628800\n"
     ]
    }
   ],
   "source": [
    "a=10\n",
    "b=0\n",
    "c=1\n",
    "for i in list(range(1,a+1)):\n",
    "    b=b+i\n",
    "    c=c*i\n",
    "print(b,c)"
   ]
  },
  {
   "cell_type": "code",
   "execution_count": 2,
   "id": "c0779e8c-a1ea-4e21-a8a4-d651f1fd3ff5",
   "metadata": {},
   "outputs": [
    {
     "name": "stdout",
     "output_type": "stream",
     "text": [
      "55 3628800\n"
     ]
    }
   ],
   "source": [
    "a=10\n",
    "b=0\n",
    "c=1\n",
    "i=1\n",
    "while i<=a:\n",
    "    b=b+i\n",
    "    c=c*i\n",
    "    i=i+1\n",
    "print(b,c)"
   ]
  },
  {
   "cell_type": "markdown",
   "id": "caf88bf5-9ee0-4de8-9226-92ed4682762c",
   "metadata": {},
   "source": [
    "Q3. Create a python program to compute the electricity bill for a household.\n",
    "The per-unit charges in rupees are as follows: For the first 100 units, the user will be charged Rs. 4.5 per\n",
    "unit, for the next 100 units, the user will be charged Rs. 6 per unit, and for the next 100 units, the user will\n",
    "be charged Rs. 10 per unit, After 300 units and above the user will be charged Rs. 20 per unit.\n",
    "You are required to take the units of electricity consumed in a month from the user as input.\n",
    "Your program must pass this test case: when the unit of electricity consumed by the user in a month is\n",
    "310, the total electricity bill should be 2250."
   ]
  },
  {
   "cell_type": "code",
   "execution_count": 3,
   "id": "bc857976-3586-4b19-9b29-aff9403aa6e7",
   "metadata": {},
   "outputs": [
    {
     "name": "stdin",
     "output_type": "stream",
     "text": [
      "bill unit 310\n"
     ]
    },
    {
     "name": "stdout",
     "output_type": "stream",
     "text": [
      "2250.0\n"
     ]
    }
   ],
   "source": [
    "a=int(input('bill unit'))\n",
    "bill_amount=0\n",
    "if a<=100:\n",
    "    bill_amount=4.5*a\n",
    "elif a>100 and a<=200:\n",
    "    bill_amount=((a-100)*6)+(100*4.5)\n",
    "elif a>200 and a<=300:\n",
    "    bill_amount=((a-200)*10)+(100*6)+(100*4.5)\n",
    "elif a>300:\n",
    "    bill_amount=((a-300)*20)+(100*10)+(100*6)+(100*4.5)\n",
    "print(bill_amount)"
   ]
  },
  {
   "cell_type": "markdown",
   "id": "38fef842-6f17-4793-bd85-99c2b3c4dbd1",
   "metadata": {},
   "source": [
    "Q4. Create a list of numbers from 1 to 100. Use for loop and while loop to calculate the cube of each\n",
    "number and if the cube of that number is divisible by 4 or 5 then append that number in a list and print\n",
    "that list."
   ]
  },
  {
   "cell_type": "code",
   "execution_count": 4,
   "id": "26554ed7-f7ca-492d-8ea4-99895a8b1763",
   "metadata": {},
   "outputs": [
    {
     "name": "stdout",
     "output_type": "stream",
     "text": [
      "[8, 64, 125, 216, 512, 1000, 1728, 2744, 3375, 4096, 5832, 8000, 10648, 13824, 15625, 17576, 21952, 27000, 32768, 39304, 42875, 46656, 54872, 64000, 74088, 85184, 91125, 97336, 110592, 125000, 140608, 157464, 166375, 175616, 195112, 216000, 238328, 262144, 274625, 287496, 314432, 343000, 373248, 405224, 421875, 438976, 474552, 512000, 551368, 592704, 614125, 636056, 681472, 729000, 778688, 830584, 857375, 884736, 941192, 1000000]\n"
     ]
    }
   ],
   "source": [
    "a=list(range(1,101))\n",
    "l=[]\n",
    "for i in a:\n",
    "    b=(i*i*i)\n",
    "    if b%4==0 or b%5==0:\n",
    "        l.append(b)\n",
    "print(l)"
   ]
  },
  {
   "cell_type": "code",
   "execution_count": 5,
   "id": "8d8d668b-feba-4b49-a1a3-f206a204c8d4",
   "metadata": {},
   "outputs": [
    {
     "name": "stdout",
     "output_type": "stream",
     "text": [
      "[8, 64, 125, 216, 512, 1000, 1728, 2744, 3375, 4096, 5832, 8000, 10648, 13824, 15625, 17576, 21952, 27000, 32768, 39304, 42875, 46656, 54872, 64000, 74088, 85184, 91125, 97336, 110592, 125000, 140608, 157464, 166375, 175616, 195112, 216000, 238328, 262144, 274625, 287496, 314432, 343000, 373248, 405224, 421875, 438976, 474552, 512000, 551368, 592704, 614125, 636056, 681472, 729000, 778688, 830584, 857375, 884736, 941192, 1000000]\n"
     ]
    }
   ],
   "source": [
    "a=100\n",
    "i=1\n",
    "l=[]\n",
    "while i<=a:\n",
    "    b=(i*i*i)\n",
    "    if b%4==0 or b%5==0:\n",
    "        l.append(b)\n",
    "    i=i+1\n",
    "print(l)"
   ]
  },
  {
   "cell_type": "markdown",
   "id": "96edf7a9-9643-4ac0-a219-f656ca8b3ffc",
   "metadata": {},
   "source": [
    "Q5. Write a program to filter count vowels in the below-given string.\n",
    "string = \"I want to become a data scientist\""
   ]
  },
  {
   "cell_type": "code",
   "execution_count": 6,
   "id": "29eb4822-b7d9-4e65-8d95-44e09d5d39d9",
   "metadata": {},
   "outputs": [
    {
     "name": "stdout",
     "output_type": "stream",
     "text": [
      "12\n"
     ]
    },
    {
     "data": {
      "text/plain": [
       "['i', 'a', 'o', 'e', 'o', 'e', 'a', 'a', 'a', 'i', 'e', 'i']"
      ]
     },
     "execution_count": 6,
     "metadata": {},
     "output_type": "execute_result"
    }
   ],
   "source": [
    "string=\"i want to become a data scientist\"\n",
    "l=[]\n",
    "for i in string:\n",
    "    if i==\"a\"or i==\"e\"or i==\"i\"or i==\"o\" or i==\"u\":\n",
    "     l.append(i)\n",
    "print(len(l))\n",
    "l"
   ]
  },
  {
   "cell_type": "code",
   "execution_count": null,
   "id": "320bf7e6-5598-40d5-91cd-0d31b2fa686b",
   "metadata": {},
   "outputs": [],
   "source": []
  }
 ],
 "metadata": {
  "kernelspec": {
   "display_name": "Python 3 (ipykernel)",
   "language": "python",
   "name": "python3"
  },
  "language_info": {
   "codemirror_mode": {
    "name": "ipython",
    "version": 3
   },
   "file_extension": ".py",
   "mimetype": "text/x-python",
   "name": "python",
   "nbconvert_exporter": "python",
   "pygments_lexer": "ipython3",
   "version": "3.10.8"
  }
 },
 "nbformat": 4,
 "nbformat_minor": 5
}
